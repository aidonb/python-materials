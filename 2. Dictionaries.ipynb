{
 "cells": [
  {
   "cell_type": "markdown",
   "metadata": {},
   "source": [
    "# Imports"
   ]
  },
  {
   "cell_type": "code",
   "execution_count": 1,
   "metadata": {
    "ExecuteTime": {
     "end_time": "2020-08-26T13:46:37.503677Z",
     "start_time": "2020-08-26T13:46:37.124131Z"
    }
   },
   "outputs": [],
   "source": [
    "import pandas as pd\n",
    "import numpy as np\n",
    "import sys\n",
    "\n",
    "# Enables multiple commands to be ran from the same cell \n",
    "from IPython.core.interactiveshell import InteractiveShell\n",
    "pd.set_option(\"display.max_columns\", 100)\n",
    "InteractiveShell.ast_node_interactivity = \"all\""
   ]
  },
  {
   "cell_type": "markdown",
   "metadata": {
    "ExecuteTime": {
     "end_time": "2020-08-26T13:18:07.303202Z",
     "start_time": "2020-08-26T13:18:07.300336Z"
    }
   },
   "source": [
    "# Dictionarys"
   ]
  },
  {
   "cell_type": "code",
   "execution_count": 2,
   "metadata": {
    "ExecuteTime": {
     "end_time": "2020-08-26T13:46:37.510770Z",
     "start_time": "2020-08-26T13:46:37.506188Z"
    }
   },
   "outputs": [],
   "source": [
    "Dictionary = {'key': 'value'}"
   ]
  },
  {
   "cell_type": "code",
   "execution_count": 3,
   "metadata": {
    "ExecuteTime": {
     "end_time": "2020-08-26T13:46:37.521891Z",
     "start_time": "2020-08-26T13:46:37.516099Z"
    }
   },
   "outputs": [],
   "source": [
    "# Alien game example\n",
    "alien_0 = {'color': 'green',\n",
    "           'points': 5}"
   ]
  },
  {
   "cell_type": "markdown",
   "metadata": {},
   "source": [
    "## Accessing values in existing dictionary"
   ]
  },
  {
   "cell_type": "code",
   "execution_count": 4,
   "metadata": {
    "ExecuteTime": {
     "end_time": "2020-08-26T13:46:37.529316Z",
     "start_time": "2020-08-26T13:46:37.524659Z"
    }
   },
   "outputs": [
    {
     "name": "stdout",
     "output_type": "stream",
     "text": [
      "green\n"
     ]
    }
   ],
   "source": [
    "print(alien_0['color'])"
   ]
  },
  {
   "cell_type": "markdown",
   "metadata": {},
   "source": [
    "## Adding values to existing dictionary"
   ]
  },
  {
   "cell_type": "code",
   "execution_count": 5,
   "metadata": {
    "ExecuteTime": {
     "end_time": "2020-08-26T13:46:37.536202Z",
     "start_time": "2020-08-26T13:46:37.531605Z"
    }
   },
   "outputs": [],
   "source": [
    "alien_0['x_position'] = 0\n",
    "alien_0['y_position'] = 25"
   ]
  },
  {
   "cell_type": "code",
   "execution_count": 6,
   "metadata": {
    "ExecuteTime": {
     "end_time": "2020-08-26T13:46:37.543385Z",
     "start_time": "2020-08-26T13:46:37.539941Z"
    }
   },
   "outputs": [
    {
     "name": "stdout",
     "output_type": "stream",
     "text": [
      "{'color': 'green', 'points': 5, 'x_position': 0, 'y_position': 25}\n"
     ]
    }
   ],
   "source": [
    "print(alien_0)"
   ]
  },
  {
   "cell_type": "markdown",
   "metadata": {},
   "source": [
    "## Start with an empty dictionary"
   ]
  },
  {
   "cell_type": "code",
   "execution_count": 7,
   "metadata": {
    "ExecuteTime": {
     "end_time": "2020-08-26T13:46:37.552691Z",
     "start_time": "2020-08-26T13:46:37.547980Z"
    }
   },
   "outputs": [
    {
     "name": "stdout",
     "output_type": "stream",
     "text": [
      "{'color': 'green', 'points': 5}\n"
     ]
    }
   ],
   "source": [
    "alien_1 = {}\n",
    "\n",
    "alien_1['color'] = 'green'\n",
    "alien_1['points'] = 5\n",
    "\n",
    "print(alien_1)"
   ]
  },
  {
   "cell_type": "markdown",
   "metadata": {},
   "source": [
    "## Modifying values in existing dictionary"
   ]
  },
  {
   "cell_type": "code",
   "execution_count": 8,
   "metadata": {
    "ExecuteTime": {
     "end_time": "2020-08-26T13:46:37.571547Z",
     "start_time": "2020-08-26T13:46:37.556020Z"
    }
   },
   "outputs": [
    {
     "name": "stdout",
     "output_type": "stream",
     "text": [
      "The alien is green\n",
      "The alien is yellow\n"
     ]
    }
   ],
   "source": [
    "alien_1 = {'color': 'green'}\n",
    "print(f\"The alien is {alien_1['color']}\")\n",
    "\n",
    "alien_1['color'] = 'yellow'\n",
    "print(f\"The alien is {alien_1['color']}\")"
   ]
  },
  {
   "cell_type": "markdown",
   "metadata": {},
   "source": [
    "## Removing key-value pairs"
   ]
  },
  {
   "cell_type": "code",
   "execution_count": 9,
   "metadata": {
    "ExecuteTime": {
     "end_time": "2020-08-26T13:46:37.578426Z",
     "start_time": "2020-08-26T13:46:37.574343Z"
    }
   },
   "outputs": [],
   "source": [
    "del(alien_1)"
   ]
  },
  {
   "cell_type": "markdown",
   "metadata": {},
   "source": [
    "## Finding specific values with 'get()'"
   ]
  },
  {
   "cell_type": "code",
   "execution_count": 10,
   "metadata": {
    "ExecuteTime": {
     "end_time": "2020-08-26T13:46:37.589443Z",
     "start_time": "2020-08-26T13:46:37.581733Z"
    }
   },
   "outputs": [
    {
     "name": "stdout",
     "output_type": "stream",
     "text": [
      "{'color': 'green', 'speed': 'slow'}\n"
     ]
    }
   ],
   "source": [
    "alien_0 = {'color': 'green',\n",
    "           'speed': 'slow'}\n",
    "\n",
    "print(alien_0)"
   ]
  },
  {
   "cell_type": "code",
   "execution_count": 11,
   "metadata": {
    "ExecuteTime": {
     "end_time": "2020-08-26T13:46:37.603838Z",
     "start_time": "2020-08-26T13:46:37.591805Z"
    }
   },
   "outputs": [
    {
     "data": {
      "text/plain": [
       "'No point value assigned.'"
      ]
     },
     "execution_count": 11,
     "metadata": {},
     "output_type": "execute_result"
    }
   ],
   "source": [
    "alien_0.get('points', 'No point value assigned.')"
   ]
  },
  {
   "cell_type": "code",
   "execution_count": 12,
   "metadata": {
    "ExecuteTime": {
     "end_time": "2020-08-26T13:46:37.649863Z",
     "start_time": "2020-08-26T13:46:37.643144Z"
    }
   },
   "outputs": [
    {
     "data": {
      "text/plain": [
       "'slow'"
      ]
     },
     "execution_count": 12,
     "metadata": {},
     "output_type": "execute_result"
    }
   ],
   "source": [
    "alien_0.get('speed', 'No point value assigned.')"
   ]
  },
  {
   "cell_type": "markdown",
   "metadata": {},
   "source": [
    "## Looping through existing dictionary"
   ]
  },
  {
   "cell_type": "code",
   "execution_count": 13,
   "metadata": {
    "ExecuteTime": {
     "end_time": "2020-08-26T13:46:37.657121Z",
     "start_time": "2020-08-26T13:46:37.652382Z"
    }
   },
   "outputs": [],
   "source": [
    "user_0 = {\n",
    "    'username': 'ablong',\n",
    "    'first': 'aidon',\n",
    "    'last': 'blong'\n",
    "}"
   ]
  },
  {
   "cell_type": "code",
   "execution_count": 14,
   "metadata": {
    "ExecuteTime": {
     "end_time": "2020-08-26T13:46:37.673509Z",
     "start_time": "2020-08-26T13:46:37.665200Z"
    }
   },
   "outputs": [
    {
     "name": "stdout",
     "output_type": "stream",
     "text": [
      "\n",
      "Key: username\n",
      "Value: ablong\n",
      "\n",
      "Key: first\n",
      "Value: aidon\n",
      "\n",
      "Key: last\n",
      "Value: blong\n"
     ]
    }
   ],
   "source": [
    "for key, value in user_0.items():\n",
    "    print(f\"\\nKey: {key}\")\n",
    "    print(f\"Value: {value}\")"
   ]
  },
  {
   "cell_type": "markdown",
   "metadata": {},
   "source": [
    "## Looping keys and values in existing dictionary"
   ]
  },
  {
   "cell_type": "code",
   "execution_count": 15,
   "metadata": {
    "ExecuteTime": {
     "end_time": "2020-08-26T13:46:37.679977Z",
     "start_time": "2020-08-26T13:46:37.675706Z"
    }
   },
   "outputs": [],
   "source": [
    "favourite_languages = {\n",
    "    'jen': 'python',\n",
    "    'sarah': 'c',\n",
    "    'edward': 'ruby',\n",
    "    'phil': 'python'\n",
    "}"
   ]
  },
  {
   "cell_type": "code",
   "execution_count": 16,
   "metadata": {
    "ExecuteTime": {
     "end_time": "2020-08-26T13:46:37.692737Z",
     "start_time": "2020-08-26T13:46:37.687761Z"
    }
   },
   "outputs": [
    {
     "name": "stdout",
     "output_type": "stream",
     "text": [
      "Jen\n",
      "Sarah\n",
      "Edward\n",
      "Phil\n"
     ]
    }
   ],
   "source": [
    "for name in favourite_languages.keys():\n",
    "    print(name.title())"
   ]
  },
  {
   "cell_type": "code",
   "execution_count": 17,
   "metadata": {
    "ExecuteTime": {
     "end_time": "2020-08-26T13:46:37.706171Z",
     "start_time": "2020-08-26T13:46:37.696541Z"
    }
   },
   "outputs": [
    {
     "name": "stdout",
     "output_type": "stream",
     "text": [
      "The following languages have been mentioned: \n",
      "Python\n",
      "C\n",
      "Ruby\n",
      "Python\n"
     ]
    }
   ],
   "source": [
    "# Looping through values\n",
    "print(\"The following languages have been mentioned: \")\n",
    "for language in favourite_languages.values():\n",
    "    print(language.title())"
   ]
  },
  {
   "cell_type": "markdown",
   "metadata": {},
   "source": [
    "## Using set() to find uniques"
   ]
  },
  {
   "cell_type": "code",
   "execution_count": 18,
   "metadata": {
    "ExecuteTime": {
     "end_time": "2020-08-26T13:46:37.724189Z",
     "start_time": "2020-08-26T13:46:37.716262Z"
    }
   },
   "outputs": [
    {
     "name": "stdout",
     "output_type": "stream",
     "text": [
      "Ruby\n",
      "Python\n",
      "C\n"
     ]
    }
   ],
   "source": [
    "for language in set(favourite_languages.values()):\n",
    "    print(language.title())"
   ]
  },
  {
   "cell_type": "markdown",
   "metadata": {},
   "source": [
    "## Nested list of dictionarys"
   ]
  },
  {
   "cell_type": "code",
   "execution_count": 19,
   "metadata": {
    "ExecuteTime": {
     "end_time": "2020-08-26T13:46:37.734096Z",
     "start_time": "2020-08-26T13:46:37.728216Z"
    }
   },
   "outputs": [
    {
     "name": "stdout",
     "output_type": "stream",
     "text": [
      "{'color': 'green', 'points': 5}\n",
      "{'color': 'yellow', 'points': 10}\n",
      "{'color': 'red', 'points': 15}\n"
     ]
    }
   ],
   "source": [
    "# How can we manage a fleet of aliens?\n",
    "alien_0 = {'color': 'green', 'points': 5}\n",
    "alien_1 = {'color': 'yellow', 'points': 10}\n",
    "alien_2 = {'color': 'red', 'points': 15}\n",
    "\n",
    "aliens = [alien_0, alien_1, alien_2]\n",
    "\n",
    "for alien in aliens:\n",
    "    print(alien)"
   ]
  },
  {
   "cell_type": "code",
   "execution_count": 20,
   "metadata": {
    "ExecuteTime": {
     "end_time": "2020-08-26T13:46:37.742257Z",
     "start_time": "2020-08-26T13:46:37.736578Z"
    }
   },
   "outputs": [],
   "source": [
    "# A more natural example...\n",
    "# What if we have 30 aliens?\n",
    "\n",
    "# Initialize empty list\n",
    "aliens = []\n",
    "\n",
    "# Make 30 green aliens\n",
    "for alien_number in range(30):\n",
    "    new_alien = {'color': 'green',\n",
    "                 'points': 5,\n",
    "                 'speed': 'slow'}\n",
    "    aliens.append(new_alien)"
   ]
  },
  {
   "cell_type": "code",
   "execution_count": 21,
   "metadata": {
    "ExecuteTime": {
     "end_time": "2020-08-26T13:46:37.750878Z",
     "start_time": "2020-08-26T13:46:37.745256Z"
    }
   },
   "outputs": [
    {
     "name": "stdout",
     "output_type": "stream",
     "text": [
      "{'color': 'green', 'points': 5, 'speed': 'slow'}\n",
      "{'color': 'green', 'points': 5, 'speed': 'slow'}\n",
      "{'color': 'green', 'points': 5, 'speed': 'slow'}\n",
      "{'color': 'green', 'points': 5, 'speed': 'slow'}\n",
      "{'color': 'green', 'points': 5, 'speed': 'slow'}\n",
      "{'color': 'green', 'points': 5, 'speed': 'slow'}\n",
      "{'color': 'green', 'points': 5, 'speed': 'slow'}\n",
      "{'color': 'green', 'points': 5, 'speed': 'slow'}\n",
      "{'color': 'green', 'points': 5, 'speed': 'slow'}\n",
      "{'color': 'green', 'points': 5, 'speed': 'slow'}\n"
     ]
    }
   ],
   "source": [
    "# Print first 10 aliens\n",
    "for alien in aliens[:10]:\n",
    "    print(alien)"
   ]
  },
  {
   "cell_type": "markdown",
   "metadata": {},
   "source": [
    "### Editing nested dictionary within list"
   ]
  },
  {
   "cell_type": "code",
   "execution_count": 22,
   "metadata": {
    "ExecuteTime": {
     "end_time": "2020-08-26T13:46:37.757297Z",
     "start_time": "2020-08-26T13:46:37.752752Z"
    }
   },
   "outputs": [],
   "source": [
    "# Editing certain aliens (first 3) in the dictionary list\n",
    "for alien in aliens[:3]:\n",
    "    if alien['color'] == 'green':\n",
    "        alien['color'] = 'yellow'\n",
    "        alien['speed'] = 'medium'\n",
    "        alien['points'] = 10"
   ]
  },
  {
   "cell_type": "code",
   "execution_count": 23,
   "metadata": {
    "ExecuteTime": {
     "end_time": "2020-08-26T13:46:37.767136Z",
     "start_time": "2020-08-26T13:46:37.760595Z"
    }
   },
   "outputs": [
    {
     "data": {
      "text/plain": [
       "[{'color': 'yellow', 'points': 10, 'speed': 'medium'},\n",
       " {'color': 'yellow', 'points': 10, 'speed': 'medium'},\n",
       " {'color': 'yellow', 'points': 10, 'speed': 'medium'},\n",
       " {'color': 'green', 'points': 5, 'speed': 'slow'},\n",
       " {'color': 'green', 'points': 5, 'speed': 'slow'}]"
      ]
     },
     "execution_count": 23,
     "metadata": {},
     "output_type": "execute_result"
    }
   ],
   "source": [
    "aliens[:5]"
   ]
  },
  {
   "cell_type": "markdown",
   "metadata": {},
   "source": [
    "## A list within a dictionary"
   ]
  },
  {
   "cell_type": "code",
   "execution_count": 24,
   "metadata": {
    "ExecuteTime": {
     "end_time": "2020-08-26T13:46:37.773827Z",
     "start_time": "2020-08-26T13:46:37.769508Z"
    }
   },
   "outputs": [],
   "source": [
    "# Store information about a pizza being ordered\n",
    "pizza = {\n",
    "    'crust': 'thick',\n",
    "    'toppings': ['mushrooms', 'extra_cheese']\n",
    "}"
   ]
  },
  {
   "cell_type": "code",
   "execution_count": 25,
   "metadata": {
    "ExecuteTime": {
     "end_time": "2020-08-26T13:46:37.783221Z",
     "start_time": "2020-08-26T13:46:37.777639Z"
    }
   },
   "outputs": [
    {
     "name": "stdout",
     "output_type": "stream",
     "text": [
      "You ordered a thick-crust pizza\n",
      "mushrooms\n",
      "extra_cheese\n"
     ]
    }
   ],
   "source": [
    "# Summarising the order\n",
    "print(f\"You ordered a {pizza['crust']}-crust pizza\")\n",
    "\n",
    "for topping in pizza['toppings']:\n",
    "    print(topping)"
   ]
  },
  {
   "cell_type": "code",
   "execution_count": 26,
   "metadata": {
    "ExecuteTime": {
     "end_time": "2020-08-26T13:46:37.802114Z",
     "start_time": "2020-08-26T13:46:37.789971Z"
    }
   },
   "outputs": [
    {
     "name": "stdout",
     "output_type": "stream",
     "text": [
      "Jen {'ruby', 'python'}\n",
      "Sarah {'c'}\n",
      "Edward {'ruby', 'gao'}\n",
      "Phil {'haskell', 'python'}\n"
     ]
    }
   ],
   "source": [
    "# Another example\n",
    "favorite_languages = {\n",
    "    'jen': ['python', 'ruby'],\n",
    "    'sarah': ['c'],\n",
    "    'edward': ['ruby', 'gao'],\n",
    "    'phil': ['python', 'haskell', 'python'],\n",
    "}\n",
    "\n",
    "for name, languages in favorite_languages.items():\n",
    "    print(name.title(), set(languages))"
   ]
  },
  {
   "cell_type": "markdown",
   "metadata": {},
   "source": [
    "## A dictionary within a dictionary"
   ]
  },
  {
   "cell_type": "code",
   "execution_count": 27,
   "metadata": {
    "ExecuteTime": {
     "end_time": "2020-08-26T13:46:37.814128Z",
     "start_time": "2020-08-26T13:46:37.804991Z"
    }
   },
   "outputs": [
    {
     "data": {
      "text/plain": [
       "{'aeinstein': {'first': 'albert', 'last': 'einstein', 'location': 'princeton'},\n",
       " 'mcurie': {'first': 'marie', 'last': 'curie', 'location': 'paris'}}"
      ]
     },
     "execution_count": 27,
     "metadata": {},
     "output_type": "execute_result"
    }
   ],
   "source": [
    "users = {\n",
    "    'aeinstein': {\n",
    "        'first': 'albert',\n",
    "        'last': 'einstein',\n",
    "        'location': 'princeton'\n",
    "    },\n",
    "    \n",
    "    'mcurie': {\n",
    "        'first': 'marie',\n",
    "        'last': 'curie',\n",
    "        'location': 'paris'\n",
    "    },\n",
    "}\n",
    "\n",
    "users"
   ]
  },
  {
   "cell_type": "code",
   "execution_count": 28,
   "metadata": {
    "ExecuteTime": {
     "end_time": "2020-08-26T13:46:37.824851Z",
     "start_time": "2020-08-26T13:46:37.817453Z"
    }
   },
   "outputs": [
    {
     "name": "stdout",
     "output_type": "stream",
     "text": [
      "\n",
      "Username: aeinstein\n",
      "\tFull name: Albert Einstein\n",
      "\tLocation: Princeton\n",
      "\n",
      "Username: mcurie\n",
      "\tFull name: Marie Curie\n",
      "\tLocation: Paris\n"
     ]
    }
   ],
   "source": [
    "for username, user_info in users.items():\n",
    "    print(f\"\\nUsername: {username}\")\n",
    "    full_name = f\"{user_info['first']} {user_info['last']}\"\n",
    "    location = user_info['location']\n",
    "    \n",
    "    print(f\"\\tFull name: {full_name.title()}\")\n",
    "    print(f\"\\tLocation: {location.title()}\")"
   ]
  }
 ],
 "metadata": {
  "kernelspec": {
   "display_name": "Python [conda env:aidy-py] *",
   "language": "python",
   "name": "conda-env-aidy-py-py"
  },
  "language_info": {
   "codemirror_mode": {
    "name": "ipython",
    "version": 3
   },
   "file_extension": ".py",
   "mimetype": "text/x-python",
   "name": "python",
   "nbconvert_exporter": "python",
   "pygments_lexer": "ipython3",
   "version": "3.7.7"
  },
  "toc": {
   "base_numbering": 1,
   "nav_menu": {},
   "number_sections": true,
   "sideBar": true,
   "skip_h1_title": false,
   "title_cell": "Table of Contents",
   "title_sidebar": "Contents",
   "toc_cell": false,
   "toc_position": {},
   "toc_section_display": true,
   "toc_window_display": true
  }
 },
 "nbformat": 4,
 "nbformat_minor": 4
}
